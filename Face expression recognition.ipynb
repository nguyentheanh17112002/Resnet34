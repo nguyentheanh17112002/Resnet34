{
 "cells": [
  {
   "cell_type": "code",
   "execution_count": 1,
   "metadata": {
    "collapsed": true
   },
   "outputs": [],
   "source": [
    "import torch\n",
    "import torchvision\n",
    "from torch import nn\n",
    "from torchvision import datasets\n",
    "from torchvision import transforms\n",
    "from tqdm import tqdm"
   ]
  },
  {
   "cell_type": "code",
   "execution_count": 2,
   "outputs": [
    {
     "name": "stdout",
     "output_type": "stream",
     "text": [
      "cuda\n"
     ]
    }
   ],
   "source": [
    "device = torch.device('cuda' if torch.cuda.is_available() else 'cpu')\n",
    "print(device)"
   ],
   "metadata": {
    "collapsed": false
   }
  },
  {
   "cell_type": "code",
   "execution_count": 3,
   "outputs": [
    {
     "name": "stdout",
     "output_type": "stream",
     "text": [
      "Looking in indexes: https://pypi.org/simple, https://pypi.ngc.nvidia.com\n",
      "Requirement already satisfied: torchsampler in c:\\users\\acer\\anaconda3\\lib\\site-packages (0.1.2)\n",
      "Requirement already satisfied: torch>=1.3 in c:\\users\\acer\\anaconda3\\lib\\site-packages (from torchsampler) (1.13.0)\n",
      "Requirement already satisfied: torchvision>=0.5 in c:\\users\\acer\\anaconda3\\lib\\site-packages (from torchsampler) (0.14.0)\n",
      "Requirement already satisfied: pandas in c:\\users\\acer\\anaconda3\\lib\\site-packages (from torchsampler) (1.4.4)\n",
      "Requirement already satisfied: typing_extensions in c:\\users\\acer\\anaconda3\\lib\\site-packages (from torch>=1.3->torchsampler) (4.3.0)\n",
      "Requirement already satisfied: numpy in c:\\users\\acer\\anaconda3\\lib\\site-packages (from torchvision>=0.5->torchsampler) (1.21.5)\n",
      "Requirement already satisfied: requests in c:\\users\\acer\\anaconda3\\lib\\site-packages (from torchvision>=0.5->torchsampler) (2.28.1)\n",
      "Requirement already satisfied: pillow!=8.3.*,>=5.3.0 in c:\\users\\acer\\anaconda3\\lib\\site-packages (from torchvision>=0.5->torchsampler) (9.2.0)\n",
      "Requirement already satisfied: python-dateutil>=2.8.1 in c:\\users\\acer\\appdata\\roaming\\python\\python39\\site-packages (from pandas->torchsampler) (2.8.2)\n",
      "Requirement already satisfied: pytz>=2020.1 in c:\\users\\acer\\anaconda3\\lib\\site-packages (from pandas->torchsampler) (2022.1)\n",
      "Requirement already satisfied: six>=1.5 in c:\\users\\acer\\appdata\\roaming\\python\\python39\\site-packages (from python-dateutil>=2.8.1->pandas->torchsampler) (1.16.0)\n",
      "Requirement already satisfied: urllib3<1.27,>=1.21.1 in c:\\users\\acer\\anaconda3\\lib\\site-packages (from requests->torchvision>=0.5->torchsampler) (1.26.11)\n",
      "Requirement already satisfied: certifi>=2017.4.17 in c:\\users\\acer\\anaconda3\\lib\\site-packages (from requests->torchvision>=0.5->torchsampler) (2022.9.14)\n",
      "Requirement already satisfied: charset-normalizer<3,>=2 in c:\\users\\acer\\anaconda3\\lib\\site-packages (from requests->torchvision>=0.5->torchsampler) (2.0.4)\n",
      "Requirement already satisfied: idna<4,>=2.5 in c:\\users\\acer\\anaconda3\\lib\\site-packages (from requests->torchvision>=0.5->torchsampler) (3.3)\n"
     ]
    }
   ],
   "source": [
    "!pip install torchsampler"
   ],
   "metadata": {
    "collapsed": false
   }
  },
  {
   "cell_type": "code",
   "execution_count": 4,
   "outputs": [],
   "source": [
    "from torchsampler import ImbalancedDatasetSampler"
   ],
   "metadata": {
    "collapsed": false
   }
  },
  {
   "cell_type": "code",
   "execution_count": 5,
   "outputs": [],
   "source": [
    "data_dir = './images'\n",
    "normalize = transforms.Normalize(\n",
    "        mean=[0.4914, 0.4822, 0.4465],\n",
    "        std=[0.2023, 0.1994, 0.2010],\n",
    "    )\n",
    "\n",
    "    # define transforms\n",
    "transform = transforms.Compose([\n",
    "    transforms.Resize((224,224)),\n",
    "    transforms.ToTensor(),\n",
    "    transforms.RandomHorizontalFlip(p=0.2),\n",
    "    normalize,\n",
    "])\n",
    "train_images_dataset = datasets.ImageFolder(root=data_dir+'/train',transform=transform)\n",
    "valid_images_dataset = datasets.ImageFolder(root=data_dir+'/validation',transform=transform)"
   ],
   "metadata": {
    "collapsed": false
   }
  },
  {
   "cell_type": "code",
   "execution_count": 6,
   "outputs": [],
   "source": [
    "train_dataset = torch.utils.data.DataLoader(train_images_dataset,batch_size=64,num_workers=2,shuffle=False, sampler=ImbalancedDatasetSampler(train_images_dataset))\n",
    "valid_dataset = torch.utils.data.DataLoader(valid_images_dataset,batch_size=64,shuffle=True)"
   ],
   "metadata": {
    "collapsed": false
   }
  },
  {
   "cell_type": "markdown",
   "source": [
    "# Residual Block"
   ],
   "metadata": {
    "collapsed": false
   }
  },
  {
   "cell_type": "code",
   "execution_count": 7,
   "outputs": [],
   "source": [
    "class ResidualBlock(nn.Module):\n",
    "    def __init__(self, in_channels, out_channels, stride = 1, downsample = None):\n",
    "        super(ResidualBlock, self).__init__()\n",
    "        self.conv1 = nn.Sequential(\n",
    "                        nn.Conv2d(in_channels, out_channels, kernel_size = 3, stride = stride, padding = 1),\n",
    "                        nn.BatchNorm2d(out_channels),\n",
    "                        nn.ReLU())\n",
    "        self.conv2 = nn.Sequential(\n",
    "                        nn.Conv2d(out_channels, out_channels, kernel_size = 3, stride = 1, padding = 1),\n",
    "                        nn.BatchNorm2d(out_channels))\n",
    "        self.downsample = downsample\n",
    "        self.relu = nn.ReLU()\n",
    "        self.out_channels = out_channels\n",
    "\n",
    "    def forward(self, x):\n",
    "        residual = x\n",
    "        out = self.conv1(x)\n",
    "        out = self.conv2(out)\n",
    "        if self.downsample:\n",
    "            residual = self.downsample(x)\n",
    "        out += residual\n",
    "        out = self.relu(out)\n",
    "        return out\n"
   ],
   "metadata": {
    "collapsed": false
   }
  },
  {
   "cell_type": "markdown",
   "source": [
    "# Resnet"
   ],
   "metadata": {
    "collapsed": false
   }
  },
  {
   "cell_type": "code",
   "execution_count": 8,
   "outputs": [],
   "source": [
    "class ResNet(nn.Module):\n",
    "    def __init__(self, block, layers, num_classes = 10):\n",
    "        super(ResNet, self).__init__()\n",
    "        self.inplanes = 64\n",
    "        self.conv1 = nn.Sequential(\n",
    "                        nn.Conv2d(3, 64, kernel_size = 7, stride = 2, padding = 3),\n",
    "                        nn.BatchNorm2d(64),\n",
    "                        nn.ReLU())\n",
    "        self.maxpool = nn.MaxPool2d(kernel_size = 3, stride = 2, padding = 1)\n",
    "        self.layer0 = self._make_layer(block, 64, layers[0], stride = 1)\n",
    "        self.layer1 = self._make_layer(block, 128, layers[1], stride = 2)\n",
    "        self.layer2 = self._make_layer(block, 256, layers[2], stride = 2)\n",
    "        self.layer3 = self._make_layer(block, 512, layers[3], stride = 2)\n",
    "        self.avgpool = nn.AvgPool2d(7, stride=1)\n",
    "        self.fc = nn.Linear(512, num_classes)\n",
    "\n",
    "    def _make_layer(self, block, planes, blocks, stride=1):\n",
    "        downsample = None\n",
    "        if stride != 1 or self.inplanes != planes:\n",
    "\n",
    "            downsample = nn.Sequential(\n",
    "                nn.Conv2d(self.inplanes, planes, kernel_size=1, stride=stride),\n",
    "                nn.BatchNorm2d(planes),\n",
    "            )\n",
    "        layers = []\n",
    "        layers.append(block(self.inplanes, planes, stride, downsample))\n",
    "        self.inplanes = planes\n",
    "        for i in range(1, blocks):\n",
    "            layers.append(block(self.inplanes, planes))\n",
    "\n",
    "        return nn.Sequential(*layers)\n",
    "\n",
    "\n",
    "    def forward(self, x):\n",
    "        x = self.conv1(x)\n",
    "        x = self.maxpool(x)\n",
    "        x = self.layer0(x)\n",
    "        x = self.layer1(x)\n",
    "        x = self.layer2(x)\n",
    "        x = self.layer3(x)\n",
    "\n",
    "        x = self.avgpool(x)\n",
    "        x = x.view(x.size(0), -1)\n",
    "        x = self.fc(x)\n",
    "\n",
    "        return x"
   ],
   "metadata": {
    "collapsed": false
   }
  },
  {
   "cell_type": "code",
   "execution_count": 9,
   "outputs": [],
   "source": [
    "num_classes = 10\n",
    "num_epochs = 10\n",
    "batch_size = 128\n",
    "learning_rate = 0.01\n",
    "\n",
    "model = ResNet(ResidualBlock, [3, 4, 6, 3]).to(device)\n",
    "\n",
    "# Loss and optimizer\n",
    "criterion = nn.CrossEntropyLoss()\n",
    "optimizer = torch.optim.SGD(model.parameters(), lr=learning_rate, weight_decay = 0.001, momentum = 0.9)\n",
    "\n",
    "# Train the model\n",
    "total_step = len(train_dataset)"
   ],
   "metadata": {
    "collapsed": false
   }
  },
  {
   "cell_type": "code",
   "execution_count": 10,
   "outputs": [],
   "source": [
    "from sklearn.metrics import classification_report"
   ],
   "metadata": {
    "collapsed": false
   }
  },
  {
   "cell_type": "code",
   "execution_count": 11,
   "outputs": [
    {
     "name": "stdout",
     "output_type": "stream",
     "text": [
      "Epoch [1/10], Loss: 1.4056\n",
      "Accuracy on validation dataset: 34.68723464477781 %\n",
      "              precision    recall  f1-score   support\n",
      "\n",
      "           0       0.34      0.05      0.09       960\n",
      "           1       0.05      0.80      0.10       111\n",
      "           2       0.21      0.27      0.24      1018\n",
      "           3       0.65      0.57      0.61      1825\n",
      "           4       0.42      0.25      0.31      1216\n",
      "           5       0.32      0.25      0.28      1139\n",
      "           6       0.56      0.52      0.54       797\n",
      "\n",
      "    accuracy                           0.35      7066\n",
      "   macro avg       0.36      0.39      0.31      7066\n",
      "weighted avg       0.43      0.35      0.36      7066\n",
      "\n",
      "Epoch [2/10], Loss: 1.3419\n",
      "Accuracy on validation dataset: 38.49419756580809 %\n",
      "              precision    recall  f1-score   support\n",
      "\n",
      "           0       0.31      0.31      0.31       960\n",
      "           1       0.10      0.74      0.18       111\n",
      "           2       0.26      0.26      0.26      1018\n",
      "           3       0.93      0.43      0.59      1825\n",
      "           4       0.59      0.08      0.14      1216\n",
      "           5       0.27      0.54      0.36      1139\n",
      "           6       0.57      0.73      0.64       797\n",
      "\n",
      "    accuracy                           0.38      7066\n",
      "   macro avg       0.43      0.44      0.35      7066\n",
      "weighted avg       0.53      0.38      0.39      7066\n",
      "\n",
      "Epoch [3/10], Loss: 1.1342\n",
      "Accuracy on validation dataset: 48.41494480611379 %\n",
      "              precision    recall  f1-score   support\n",
      "\n",
      "           0       0.33      0.50      0.40       960\n",
      "           1       0.12      0.65      0.21       111\n",
      "           2       0.36      0.30      0.33      1018\n",
      "           3       0.88      0.59      0.70      1825\n",
      "           4       0.53      0.43      0.47      1216\n",
      "           5       0.36      0.36      0.36      1139\n",
      "           6       0.64      0.71      0.68       797\n",
      "\n",
      "    accuracy                           0.48      7066\n",
      "   macro avg       0.46      0.50      0.45      7066\n",
      "weighted avg       0.55      0.48      0.50      7066\n",
      "\n",
      "Epoch [4/10], Loss: 0.6577\n",
      "Accuracy on validation dataset: 52.773846589300874 %\n",
      "              precision    recall  f1-score   support\n",
      "\n",
      "           0       0.45      0.40      0.43       960\n",
      "           1       0.12      0.69      0.20       111\n",
      "           2       0.46      0.13      0.21      1018\n",
      "           3       0.82      0.72      0.77      1825\n",
      "           4       0.52      0.54      0.53      1216\n",
      "           5       0.39      0.47      0.42      1139\n",
      "           6       0.61      0.78      0.68       797\n",
      "\n",
      "    accuracy                           0.53      7066\n",
      "   macro avg       0.48      0.53      0.46      7066\n",
      "weighted avg       0.56      0.53      0.53      7066\n",
      "\n",
      "Epoch [5/10], Loss: 1.0913\n",
      "Accuracy on validation dataset: 51.72657797905463 %\n",
      "              precision    recall  f1-score   support\n",
      "\n",
      "           0       0.42      0.46      0.44       960\n",
      "           1       0.16      0.71      0.27       111\n",
      "           2       0.33      0.54      0.41      1018\n",
      "           3       0.89      0.63      0.74      1825\n",
      "           4       0.54      0.50      0.52      1216\n",
      "           5       0.43      0.26      0.33      1139\n",
      "           6       0.71      0.67      0.69       797\n",
      "\n",
      "    accuracy                           0.52      7066\n",
      "   macro avg       0.50      0.54      0.48      7066\n",
      "weighted avg       0.58      0.52      0.53      7066\n",
      "\n",
      "Epoch [6/10], Loss: 0.5846\n",
      "Accuracy on validation dataset: 51.45768468723464 %\n",
      "              precision    recall  f1-score   support\n",
      "\n",
      "           0       0.38      0.39      0.39       960\n",
      "           1       0.12      0.68      0.20       111\n",
      "           2       0.36      0.44      0.40      1018\n",
      "           3       0.85      0.67      0.75      1825\n",
      "           4       0.58      0.43      0.49      1216\n",
      "           5       0.45      0.36      0.40      1139\n",
      "           6       0.62      0.74      0.67       797\n",
      "\n",
      "    accuracy                           0.51      7066\n",
      "   macro avg       0.48      0.53      0.47      7066\n",
      "weighted avg       0.57      0.51      0.53      7066\n",
      "\n",
      "Epoch [7/10], Loss: 0.7186\n",
      "Accuracy on validation dataset: 55.20803849419757 %\n",
      "              precision    recall  f1-score   support\n",
      "\n",
      "           0       0.53      0.36      0.43       960\n",
      "           1       0.14      0.68      0.23       111\n",
      "           2       0.42      0.35      0.38      1018\n",
      "           3       0.89      0.69      0.77      1825\n",
      "           4       0.51      0.57      0.54      1216\n",
      "           5       0.42      0.51      0.46      1139\n",
      "           6       0.69      0.75      0.71       797\n",
      "\n",
      "    accuracy                           0.55      7066\n",
      "   macro avg       0.51      0.56      0.50      7066\n",
      "weighted avg       0.60      0.55      0.56      7066\n",
      "\n",
      "Epoch [8/10], Loss: 0.9432\n",
      "Accuracy on validation dataset: 53.311633172940844 %\n",
      "              precision    recall  f1-score   support\n",
      "\n",
      "           0       0.42      0.50      0.46       960\n",
      "           1       0.15      0.68      0.24       111\n",
      "           2       0.34      0.45      0.39      1018\n",
      "           3       0.88      0.73      0.79      1825\n",
      "           4       0.62      0.38      0.47      1216\n",
      "           5       0.41      0.36      0.38      1139\n",
      "           6       0.67      0.70      0.69       797\n",
      "\n",
      "    accuracy                           0.53      7066\n",
      "   macro avg       0.50      0.54      0.49      7066\n",
      "weighted avg       0.58      0.53      0.55      7066\n",
      "\n",
      "Epoch [9/10], Loss: 0.6718\n",
      "Accuracy on validation dataset: 55.23634305123125 %\n",
      "              precision    recall  f1-score   support\n",
      "\n",
      "           0       0.41      0.51      0.46       960\n",
      "           1       0.17      0.70      0.27       111\n",
      "           2       0.42      0.34      0.38      1018\n",
      "           3       0.86      0.73      0.79      1825\n",
      "           4       0.55      0.50      0.52      1216\n",
      "           5       0.45      0.40      0.42      1139\n",
      "           6       0.65      0.75      0.70       797\n",
      "\n",
      "    accuracy                           0.55      7066\n",
      "   macro avg       0.50      0.56      0.51      7066\n",
      "weighted avg       0.58      0.55      0.56      7066\n",
      "\n",
      "Epoch [10/10], Loss: 0.5471\n",
      "Accuracy on validation dataset: 54.4296631757713 %\n",
      "              precision    recall  f1-score   support\n",
      "\n",
      "           0       0.45      0.46      0.45       960\n",
      "           1       0.17      0.68      0.27       111\n",
      "           2       0.41      0.34      0.37      1018\n",
      "           3       0.89      0.69      0.78      1825\n",
      "           4       0.56      0.46      0.51      1216\n",
      "           5       0.39      0.50      0.44      1139\n",
      "           6       0.63      0.75      0.68       797\n",
      "\n",
      "    accuracy                           0.54      7066\n",
      "   macro avg       0.50      0.55      0.50      7066\n",
      "weighted avg       0.58      0.54      0.56      7066\n",
      "\n"
     ]
    }
   ],
   "source": [
    "import gc\n",
    "total_step = len(train_dataset)\n",
    "\n",
    "for epoch in range(num_epochs):\n",
    "    for i, (images, labels) in enumerate(train_dataset):\n",
    "        # Move tensors to the configured device\n",
    "        images = images.to(device)\n",
    "        labels = labels.to(device)\n",
    "\n",
    "        # Forward pass\n",
    "        outputs = model(images)\n",
    "        loss = criterion(outputs, labels)\n",
    "\n",
    "        # Backward and optimize\n",
    "        optimizer.zero_grad()\n",
    "        loss.backward()\n",
    "        optimizer.step()\n",
    "        del images, labels, outputs\n",
    "        torch.cuda.empty_cache()\n",
    "        gc.collect()\n",
    "\n",
    "    print ('Epoch [{}/{}], Loss: {:.4f}'\n",
    "                   .format(epoch+1, num_epochs, loss.item()))\n",
    "\n",
    "   # Validation\n",
    "    with torch.no_grad():\n",
    "        correct = 0\n",
    "        total = 0\n",
    "        y_true , y_pred = [] , []\n",
    "        for images, labels in valid_dataset:\n",
    "            images = images.to(device)\n",
    "            labels = labels.to(device)\n",
    "            outputs = model(images)\n",
    "            _, predicted = torch.max(outputs.data, 1)\n",
    "            total += labels.size(0)\n",
    "            correct += (predicted == labels).sum().item()\n",
    "            y_pred.extend(outputs.argmax(1).cpu().numpy())\n",
    "            y_true.extend(labels.cpu().numpy())\n",
    "            del images, labels, outputs\n",
    "        print(f\"Accuracy on validation dataset: {correct/total * 100} %\")\n",
    "        print(classification_report(y_true,y_pred))"
   ],
   "metadata": {
    "collapsed": false
   }
  }
 ],
 "metadata": {
  "kernelspec": {
   "display_name": "Python 3",
   "language": "python",
   "name": "python3"
  },
  "language_info": {
   "codemirror_mode": {
    "name": "ipython",
    "version": 2
   },
   "file_extension": ".py",
   "mimetype": "text/x-python",
   "name": "python",
   "nbconvert_exporter": "python",
   "pygments_lexer": "ipython2",
   "version": "2.7.6"
  }
 },
 "nbformat": 4,
 "nbformat_minor": 0
}
